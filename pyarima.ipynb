{
 "cells": [
  {
   "cell_type": "code",
   "execution_count": 1,
   "metadata": {},
   "outputs": [],
   "source": [
    "from pyspark.sql import SparkSession\n",
    "import pyspark\n",
    "from pyspark import SparkContext\n",
    "\n",
    "sc =SparkContext.getOrCreate()\n",
    "from pyspark.sql import SQLContext\n",
    "trurl='/home/aaftab/Dropbox/Techsoc/train_techsoc.csv'\n",
    "tsturl='/home/aaftab/Dropbox/Techsoc/test_techsoc.csv'\n",
    "\n",
    "sc.addFile(trurl)\n",
    "sc.addFile(tsturl)\n",
    "\n",
    "sqlcontext=SQLContext(sc)\n",
    "\n",
    "from pyspark import SparkFiles\n",
    "trdf=sqlcontext.read.csv(SparkFiles.get('train_techsoc.csv'), header=True, inferSchema=True)\n",
    "tstdf=sqlcontext.read.csv(SparkFiles.get('test_techsoc.csv'), header=True, inferSchema=True)\n",
    "\n",
    "from pyspark.ml.feature import VectorAssembler\n",
    "vectorAssembler = VectorAssembler(inputCols = ['x_sim','y_sim','z_sim','Vx_sim','Vy_sim','Vz_sim','sat_id'], outputCol = 'features')\n",
    "trd=vectorAssembler.transform(trdf)\n",
    "trd=trd.select(['features','Vy'])\n",
    "\n",
    "from pyspark.ml.feature import VectorAssembler\n",
    "vectorAssembler = VectorAssembler(inputCols = ['x_sim','y_sim','z_sim','Vx_sim','Vy_sim','Vz_sim'], outputCol = 'features')\n",
    "tstd=vectorAssembler.transform(tstdf)\n",
    "tstd=tstd.select(['features'])\n"
   ]
  },
  {
   "cell_type": "code",
   "execution_count": 8,
   "metadata": {},
   "outputs": [],
   "source": [
    "from pyspark.ml.feature import PCA as pca\n",
    "from pyspark.ml.linalg import Vectors\n",
    "\n",
    "p=pca(k=2, inputCol='features',outputCol='pc')\n",
    "model=p.fit(trd)\n",
    "transformed=model.transform(trd)\n"
   ]
  },
  {
   "cell_type": "code",
   "execution_count": null,
   "metadata": {},
   "outputs": [],
   "source": []
  },
  {
   "cell_type": "code",
   "execution_count": null,
   "metadata": {},
   "outputs": [],
   "source": []
  }
 ],
 "metadata": {
  "kernelspec": {
   "display_name": "Python 3",
   "language": "python",
   "name": "python3"
  },
  "language_info": {
   "codemirror_mode": {
    "name": "ipython",
    "version": 3
   },
   "file_extension": ".py",
   "mimetype": "text/x-python",
   "name": "python",
   "nbconvert_exporter": "python",
   "pygments_lexer": "ipython3",
   "version": "3.7.4"
  }
 },
 "nbformat": 4,
 "nbformat_minor": 2
}
